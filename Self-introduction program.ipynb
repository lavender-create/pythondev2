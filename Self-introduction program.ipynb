{
 "cells": [
  {
   "cell_type": "code",
   "execution_count": 5,
   "id": "4d6c93fc",
   "metadata": {},
   "outputs": [
    {
     "name": "stdout",
     "output_type": "stream",
     "text": [
      "名前を入力してください: taro kirameki \n"
     ]
    }
   ],
   "source": [
    "name = input(\"名前を入力してください：\")\n",
    "print(\"名前を入力してください:\", name, \"\")\n"
   ]
  },
  {
   "cell_type": "code",
   "execution_count": 6,
   "id": "425d74a7",
   "metadata": {},
   "outputs": [
    {
     "name": "stdout",
     "output_type": "stream",
     "text": [
      "現在の年齢を入力してください: 25 \n"
     ]
    }
   ],
   "source": [
    "age = input(\"現在の年齢を入力してください：\")\n",
    "print(\"現在の年齢を入力してください:\", age, \"\")\n",
    "\n"
   ]
  },
  {
   "cell_type": "code",
   "execution_count": 7,
   "id": "0a10ec15",
   "metadata": {},
   "outputs": [
    {
     "name": "stdout",
     "output_type": "stream",
     "text": [
      "私の名前は aro kirameki です。来年で 26 歳になります。\n"
     ]
    }
   ],
   "source": [
    "name = input(\"名前を入力してください：\")\n",
    "age = int(input(\"現在の年齢を入力してください：\"))\n",
    "next_age = age + 1\n",
    "print(f\"私の名前は {name} です。来年で {next_age} 歳になります。\")\n",
    "\n"
   ]
  }
 ],
 "metadata": {
  "kernelspec": {
   "display_name": ".venv",
   "language": "python",
   "name": "python3"
  },
  "language_info": {
   "codemirror_mode": {
    "name": "ipython",
    "version": 3
   },
   "file_extension": ".py",
   "mimetype": "text/x-python",
   "name": "python",
   "nbconvert_exporter": "python",
   "pygments_lexer": "ipython3",
   "version": "3.12.10"
  }
 },
 "nbformat": 4,
 "nbformat_minor": 5
}
