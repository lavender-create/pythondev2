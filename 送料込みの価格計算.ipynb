{
 "cells": [
  {
   "cell_type": "code",
   "execution_count": 64,
   "id": "c23de8f8",
   "metadata": {},
   "outputs": [
    {
     "name": "stdout",
     "output_type": "stream",
     "text": [
      "税抜価格を入力してください：2000\n",
      "送料は無料です。\n",
      "税込価格は2200円です。\n"
     ]
    }
   ],
   "source": [
    "price= int(input(\"税抜価格を入力してください: \"))\n",
    "tax_included=round(price *1.10)\n",
    "if tax_included >= 2000:\n",
    "    print(f\"税抜価格を入力してください：{int(price)}\")\n",
    "    print(\"送料は無料です。\")\n",
    "    print(f\"税込価格は{tax_included}円です。\")\n",
    "else:\n",
    "    print(f\"税抜価格を入力してください：{int(price)}\")\n",
    "    print(\"送料として350円かかります。\")\n",
    "    total = tax_included + 350\n",
    "    print(f\"税込価格は{int(total)}円です。\")"
   ]
  },
  {
   "cell_type": "code",
   "execution_count": 65,
   "id": "5eb3f535",
   "metadata": {},
   "outputs": [
    {
     "name": "stdout",
     "output_type": "stream",
     "text": [
      "税抜価格を入力してください：1800\n",
      "送料として350円かかります。\n",
      "税込価格は2330円です。\n"
     ]
    }
   ],
   "source": [
    "price= int(input(\"税抜価格を入力してください: \"))\n",
    "tax_included=round(price *1.10)\n",
    "if tax_included >= 2000:\n",
    "    print(f\"税抜価格を入力してください：{int(price)}\")\n",
    "    print(\"送料は無料です。\")\n",
    "    print(f\"税込価格は{tax_included}円です。\")\n",
    "else:\n",
    "    print(f\"税抜価格を入力してください：{int(price)}\")\n",
    "    print(\"送料として350円かかります。\")\n",
    "    total = tax_included + 350\n",
    "    print(f\"税込価格は{int(total)}円です。\")"
   ]
  }
 ],
 "metadata": {
  "kernelspec": {
   "display_name": ".venv",
   "language": "python",
   "name": "python3"
  },
  "language_info": {
   "codemirror_mode": {
    "name": "ipython",
    "version": 3
   },
   "file_extension": ".py",
   "mimetype": "text/x-python",
   "name": "python",
   "nbconvert_exporter": "python",
   "pygments_lexer": "ipython3",
   "version": "3.12.10"
  }
 },
 "nbformat": 4,
 "nbformat_minor": 5
}
